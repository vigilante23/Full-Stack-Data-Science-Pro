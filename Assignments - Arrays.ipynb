{
 "cells": [
  {
   "cell_type": "markdown",
   "metadata": {},
   "source": [
    "1. Given an array, check if it contains any duplicates or not.\n",
    "arr = [1, 2, 4, 2, 5, 9]\n",
    "Output = True"
   ]
  },
  {
   "cell_type": "code",
   "execution_count": 1,
   "metadata": {},
   "outputs": [
    {
     "data": {
      "text/plain": [
       "True"
      ]
     },
     "execution_count": 1,
     "metadata": {},
     "output_type": "execute_result"
    }
   ],
   "source": [
    "def duplicate(a):\n",
    "    for i in range(len(a)):\n",
    "        for j in range((i+1),len(a)):\n",
    "            if a[i]== a[j]:\n",
    "                return True \n",
    "    else:\n",
    "        return False\n",
    "arr= [1,2,3,4,5,2]\n",
    "duplicate(arr)"
   ]
  },
  {
   "cell_type": "markdown",
   "metadata": {},
   "source": [
    "2. Given an array and an integer k, rotate the array to the right by k steps.\n",
    "arr = [1, 2, 3, 4, 5, 6, 7] k = 3\n",
    "Output = [5, 6, 7, 1, 2, 3, 4]"
   ]
  },
  {
   "cell_type": "code",
   "execution_count": 34,
   "metadata": {},
   "outputs": [
    {
     "name": "stdout",
     "output_type": "stream",
     "text": [
      "[5, 6, 7, 1, 2, 3, 4]\n"
     ]
    }
   ],
   "source": [
    "def Rotate(arr, k):\n",
    "    k = k % len(arr)\n",
    "    arr = arr[-k:] + arr[:-k]\n",
    "    return arr\n",
    "if __name__ == \"__main__\":\n",
    "    arr = [1,2,3,4,5,6,7]\n",
    "    k = 3\n",
    "    output = Rotate(arr, k)\n",
    "    print(output)"
   ]
  },
  {
   "cell_type": "markdown",
   "metadata": {},
   "source": [
    "3. Reverse the given array in-place, means without using any extra data structure.\n",
    "arr = [2, 4, 5, 7, 9, 12]\n",
    "Output = [12, 9, 7, 5, 4, 2]"
   ]
  },
  {
   "cell_type": "code",
   "execution_count": 4,
   "metadata": {},
   "outputs": [
    {
     "name": "stdout",
     "output_type": "stream",
     "text": [
      "[12, 9, 7, 5, 4, 2]\n"
     ]
    }
   ],
   "source": [
    "def Reverse(a):\n",
    "    left = 0\n",
    "    right = len(a) - 1\n",
    "    while right > left:\n",
    "        a[left], a[right] = a[right], a[left]\n",
    "        left = left+1\n",
    "        right = right -1\n",
    "    return a \n",
    "if __name__ == \"__main__\":\n",
    "    arr = [2,4,5,7,9,12]\n",
    "    rev_arr = Reverse(arr)\n",
    "    print(rev_arr)"
   ]
  },
  {
   "cell_type": "markdown",
   "metadata": {},
   "source": [
    "4. Given an array of integers, find the maximum element in an array\n",
    "arr = [10, 5, 20, 8, 15]\n",
    "Output = 20"
   ]
  },
  {
   "cell_type": "code",
   "execution_count": 6,
   "metadata": {},
   "outputs": [
    {
     "name": "stdout",
     "output_type": "stream",
     "text": [
      "20\n"
     ]
    }
   ],
   "source": [
    "def maximum(a):\n",
    "    max = 0\n",
    "    for i in a:\n",
    "        if i>max:\n",
    "            max = i\n",
    "        else :\n",
    "            max=max\n",
    "    return(max)\n",
    "if __name__ ==\"__main__\":\n",
    "    arr= [10,5,20,8,15]\n",
    "    max = maximum(arr)\n",
    "    print(max)"
   ]
  },
  {
   "cell_type": "markdown",
   "metadata": {},
   "source": [
    "5. Given a sorted array, remove the duplicate element without using any extra data structure.\n",
    "arr = [1, 1, 2, 2, 2, 3, 3, 4, 4, 4, 5, 5]\n",
    "Output = [1, 2, 3, 4, 5]"
   ]
  },
  {
   "cell_type": "code",
   "execution_count": 40,
   "metadata": {},
   "outputs": [
    {
     "name": "stdout",
     "output_type": "stream",
     "text": [
      "[1, 2, 3, 4, 5]\n"
     ]
    }
   ],
   "source": [
    "def remove_duplicates(arr):\n",
    "    n = len(arr)\n",
    "    if n == 0 or n == 1:\n",
    "        return arr\n",
    "    i = 0\n",
    "    j = 1\n",
    "    while j < n:\n",
    "        if arr[i] != arr[j]:\n",
    "            i += 1\n",
    "            arr[i] = arr[j]\n",
    "        j += 1\n",
    "    return arr[:i+1]\n",
    "\n",
    "arr = [1, 1, 2, 2, 2, 3, 3, 4, 4, 4, 5, 5]\n",
    "result = remove_duplicates(arr)\n",
    "print(result)\n"
   ]
  },
  {
   "cell_type": "code",
   "execution_count": null,
   "metadata": {},
   "outputs": [],
   "source": []
  }
 ],
 "metadata": {
  "kernelspec": {
   "display_name": "Python 3",
   "language": "python",
   "name": "python3"
  },
  "language_info": {
   "codemirror_mode": {
    "name": "ipython",
    "version": 3
   },
   "file_extension": ".py",
   "mimetype": "text/x-python",
   "name": "python",
   "nbconvert_exporter": "python",
   "pygments_lexer": "ipython3",
   "version": "3.10.9"
  }
 },
 "nbformat": 4,
 "nbformat_minor": 2
}
