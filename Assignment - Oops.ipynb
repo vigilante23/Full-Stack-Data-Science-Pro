{
 "cells": [
  {
   "cell_type": "markdown",
   "id": "92555d59-281f-4bd8-a32b-2f0180b4df1c",
   "metadata": {},
   "source": [
    "Problem 1: Bank Account Create a class representing a bank account with attributes like account number, account holder name, and balance. Implement methods to deposit and withdraw money from the account."
   ]
  },
  {
   "cell_type": "code",
   "execution_count": 7,
   "id": "86a96fb7-e7b7-40af-a3af-a9564ef29573",
   "metadata": {},
   "outputs": [
    {
     "name": "stdout",
     "output_type": "stream",
     "text": [
      "Account Number : 12345  Name : Rahul sharma  Balance :1500\n"
     ]
    }
   ],
   "source": [
    "class BankAccount:\n",
    "    def __init__(self, accountNumber, accountHolderName, balance = 0.0):\n",
    "        self.accountNumber = accountNumber\n",
    "        self.accountHolderName = accountHolderName\n",
    "        self.balance = balance\n",
    "    def deposit(self, amount):\n",
    "        if(amount > 0):\n",
    "            self.balance = self.balance + amount\n",
    "    def withdraw(self, amount):\n",
    "        if(self.balance >= amount):\n",
    "            self.balance = self.balance - amount\n",
    "        else:\n",
    "            print(\"Insuffecient Funds\")\n",
    "    def account_detail(self):\n",
    "        print(f\"Account Number : {self.accountNumber}  Name : {self.accountHolderName}  Balance :{self.balance}\")\n",
    "        \n",
    "Account_1 = BankAccount(12345,\"Rahul sharma\",1000)\n",
    "Account_1.deposit(1000)\n",
    "Account_1.withdraw(500)\n",
    "Account_1.account_detail()"
   ]
  },
  {
   "cell_type": "markdown",
   "id": "fa24d4ed-233c-4e7b-9350-8ce9ec705995",
   "metadata": {},
   "source": [
    "Problem 2: Employee Management Create a class representing an employee with attributes like employee ID, name, and salary. Implement methods to calculate the yearly bonus and display employee details."
   ]
  },
  {
   "cell_type": "code",
   "execution_count": 17,
   "id": "1ee160dc-987f-4cca-8f50-982a34f2f868",
   "metadata": {},
   "outputs": [
    {
     "name": "stdout",
     "output_type": "stream",
     "text": [
      "Employee name : Rahul || Employee id = 12345 || Salary : 25000 || Yearly bonus : None\n"
     ]
    }
   ],
   "source": [
    "class Employee:\n",
    "    def __init__(self, employee_id, name, salary):\n",
    "        self.employee_id = employee_id\n",
    "        self.name = name\n",
    "        self.salary = salary\n",
    "        self.yearly_bonus = None\n",
    "    def yearly_bonus(self):\n",
    "        if  20000 <= self.salary <= 50000:\n",
    "            self.yearly_bonus = 24000\n",
    "        else :\n",
    "            self.yearly_bonus = 35000\n",
    "    def employee_details(self): \n",
    "        print(f\"Employee name : {self.name} || Employee id = {self.employee_id} || Salary : {self.salary} || Yearly bonus : {self.yearly_bonus}\")\n",
    "        \n",
    "Employee_1 = Employee(12345, \"Rahul\", 25000)\n",
    "Employee_1.employee_details()"
   ]
  },
  {
   "cell_type": "markdown",
   "id": "38c4e5bb-1b4a-4833-998c-d02964a1b767",
   "metadata": {},
   "source": [
    "Problem 3: Vehicle Rental Create a class representing a vehicle rental system. Implement methods to rent a vehicle, return a vehicle, and display available vehicles."
   ]
  },
  {
   "cell_type": "code",
   "execution_count": 20,
   "id": "16904189-9880-473a-8ad1-73e7ec964183",
   "metadata": {},
   "outputs": [
    {
     "name": "stdout",
     "output_type": "stream",
     "text": [
      "Available cars : ['scorpio', 'pick up', 'truck', 'fortuner']\n",
      "||fortuner|| : car is abailable take it\n",
      "Available cars : ['scorpio', 'pick up', 'truck']\n"
     ]
    }
   ],
   "source": [
    "class vehicle_rental_system :\n",
    "    def __init__(self):\n",
    "        available_cars = ['scorpio', 'thar', 'fortuner', 'pick up','truck']\n",
    "    def Rent(self, car):\n",
    "        if car in available_cars:\n",
    "            print(f\"||{car}|| : car is abailable take it\")\n",
    "            available_cars.remove(car)\n",
    "        else :\n",
    "            print(\"car is not available\")\n",
    "    def Return_vehicle(self, car):\n",
    "        available_cars.append(car)\n",
    "    def Available_vehicle(self):\n",
    "        print(f\"Available cars : {available_cars}\")\n",
    "v1 = vehicle_rental_system()\n",
    "v1.Available_vehicle()\n",
    "v1.Rent('fortuner')\n",
    "v1.Available_vehicle()\n",
    "v1.Return_vehicle('fortuner')"
   ]
  },
  {
   "cell_type": "markdown",
   "id": "a57a4794-69d4-4da1-9c33-ee1158731268",
   "metadata": {},
   "source": [
    "Problem 4: Library Catalog Create classes representing a library and a book. Implement methods to add books to the library, borrow books, and display available books."
   ]
  },
  {
   "cell_type": "code",
   "execution_count": 40,
   "id": "06827dd2-3231-44de-9fe8-3b632df65678",
   "metadata": {},
   "outputs": [
    {
     "name": "stdout",
     "output_type": "stream",
     "text": [
      "Available books are : ['Dune', 'Rebecca', 'Inferno', 'Frankenstein']\n",
      "Dracula : Book added\n",
      "Ender's Game : Book added\n",
      "Available books are : ['Dune', 'Rebecca', 'Inferno', 'Frankenstein', 'Dracula', \"Ender's Game\"]\n",
      "||Ender's Game|| : Book is abailable take it\n",
      "||Rebecca|| : Book is abailable take it\n",
      "Available books are : ['Dune', 'Inferno', 'Frankenstein', 'Dracula']\n"
     ]
    }
   ],
   "source": [
    "class library:\n",
    "    def __init__(self):\n",
    "        self.available_books = [\"Dune\", \"Rebecca\", \"Inferno\", \"Frankenstein\"]\n",
    "    def add_books(self,*books):\n",
    "        for i in range(len(books)):                                                                 \n",
    "            self.available_books.append(books[i])\n",
    "            print(f\"{books[i]} : Book added\")\n",
    "    def Borrow_books(self, *books):\n",
    "        for i in books:\n",
    "            if i in self.available_books:\n",
    "                print(f\"||{i}|| : Book is abailable take it\")\n",
    "                self.available_books.remove(i)\n",
    "            else :\n",
    "                print(\"Book is not available\")\n",
    "    def show_books(self):\n",
    "        print(f\"Available books are : {self.available_books}\")\n",
    "l=library()\n",
    "l.show_books()\n",
    "l.add_books(\"Dracula\", \"Ender's Game\")\n",
    "l.show_books()\n",
    "l.Borrow_books(\"Ender's Game\", \"Rebecca\")\n",
    "l.show_books()"
   ]
  },
  {
   "cell_type": "markdown",
   "id": "6fa5911a-e3dd-462b-b42d-3f5a07a01cae",
   "metadata": {},
   "source": [
    "Problem 5: Product Inventory Create classes representing a product and an inventory system. Implement methods to add products to the inventory, update product quantity, and display available products."
   ]
  },
  {
   "cell_type": "code",
   "execution_count": 46,
   "id": "1703ac3c-0cde-4159-954e-10f0e56629a8",
   "metadata": {},
   "outputs": [
    {
     "name": "stdout",
     "output_type": "stream",
     "text": [
      "Available products are : ['womens sports wear', 'mens sports wear', 'cricket items', 'football items']\n",
      "swimming wear : product added\n",
      "basketball wear : product added\n",
      "Available products are : ['womens sports wear', 'mens sports wear', 'cricket items', 'football items', 'swimming wear', 'basketball wear']\n",
      "update football items quality\n",
      "we do not manufacture this : jeans\n",
      "Available products are : ['womens sports wear', 'mens sports wear', 'cricket items', 'football items', 'swimming wear', 'basketball wear']\n"
     ]
    }
   ],
   "source": [
    "class sports_product:\n",
    "    def __init__(self):\n",
    "        self.available_products  = ['womens sports wear', 'mens sports wear', 'cricket items', 'football items' ]\n",
    "    def add_products(self, *products):\n",
    "        for i in products:\n",
    "            self.available_products.append(i)\n",
    "            print(f\"{i} : product added\")\n",
    "    def update_product_quality(self, product):\n",
    "        if product in self.available_products:\n",
    "            print(f\"update {product} quality\")\n",
    "        else : \n",
    "            print(f\"we do not manufacture this : {product}\")\n",
    "    def display_products(self):\n",
    "        print(f\"Available products are : {self.available_products}\")\n",
    "p= sports_product()\n",
    "p.display_products()\n",
    "p.add_products('swimming wear', 'basketball wear')\n",
    "p.display_products()\n",
    "p.update_product_quality('football items')\n",
    "p.update_product_quality('jeans')\n",
    "p.display_products()"
   ]
  },
  {
   "cell_type": "markdown",
   "id": "393afca5-96ce-4180-ba9d-ceb3eba10ddb",
   "metadata": {},
   "source": [
    "Problem 6: Shape Calculation Create a class representing a shape with attributes like length, width, and height. Implement methods to calculate the area and perimeter of the shape."
   ]
  },
  {
   "cell_type": "code",
   "execution_count": 53,
   "id": "c4072640-2768-4526-9d9c-bb170a8a9f6f",
   "metadata": {},
   "outputs": [
    {
     "name": "stdout",
     "output_type": "stream",
     "text": [
      "area is equal to = 200\n",
      "perimeter is equal to = 60\n"
     ]
    }
   ],
   "source": [
    "class shape:\n",
    "    def __init__(self, length, width, height = None):\n",
    "        self.length = length\n",
    "        self.width = width\n",
    "        self.height = height\n",
    "    def area(self):\n",
    "        print(f\"area is equal to = {self.length * self.width}\")\n",
    "    def perimeter(self):\n",
    "        print(f\"perimeter is equal to = {2 * (self.length + self.width)}\")\n",
    "s=shape(10,20)\n",
    "s.area()\n",
    "s.perimeter()"
   ]
  },
  {
   "cell_type": "markdown",
   "id": "70af5781-8e00-45dc-8853-7c124726d51b",
   "metadata": {},
   "source": [
    "Problem 7: Student Management Create a class representing a student with attributes like student ID, name, and grades. Implement methods to calculate the average grade and display student details."
   ]
  },
  {
   "cell_type": "code",
   "execution_count": 61,
   "id": "c7102ce6-0df3-4fb0-89a8-99440c2e8abe",
   "metadata": {},
   "outputs": [
    {
     "name": "stdout",
     "output_type": "stream",
     "text": [
      "Name : Digvijay || Id : 12345 || Grades = 5.5\n"
     ]
    }
   ],
   "source": [
    "class student:\n",
    "    def __init__(self, name, student_id):\n",
    "        self.name = name\n",
    "        self.student_id = student_id\n",
    "        self.avg_grades = None\n",
    "    def average_grade(self, *grade):\n",
    "        sum = 0\n",
    "        for i in grade:\n",
    "            sum = sum +i\n",
    "        self.avg_grades = sum/len(grade)\n",
    "    def display_detail(self):\n",
    "        print(f\"Name : {self.name} || Id : {self.student_id} || Grades = {self.avg_grades}\")\n",
    "s = student('Digvijay', 12345)\n",
    "s.average_grade(1,2,3,4,5,6,7,8,9,10)\n",
    "s.display_detail()"
   ]
  },
  {
   "cell_type": "markdown",
   "id": "8100aecc-b260-4ec7-8b21-d74b97534cb0",
   "metadata": {},
   "source": [
    "Problem 8: Email Management Create a class representing an email with attributes like sender, recipient, and subject. Implement methods to send an email and display email details."
   ]
  },
  {
   "cell_type": "code",
   "execution_count": 64,
   "id": "81a26dc4-1cc9-4d3d-88ca-217c7219134b",
   "metadata": {},
   "outputs": [
    {
     "name": "stdout",
     "output_type": "stream",
     "text": [
      "sended the email successfully to  : tony \n",
      "from : jacky  to: tony ,  subject = meeting time\n"
     ]
    }
   ],
   "source": [
    "class email_management:\n",
    "    def __init__(self, sender, recipient, subject):\n",
    "        self.sender = sender\n",
    "        self.recipient = recipient\n",
    "        self.subject = subject\n",
    "    def send_email(self, message):\n",
    "        print(f\"sended the email successfully to  : {self.recipient} \")\n",
    "    def display_detail(self):\n",
    "        print(f\"from : {self.sender}  to: {self.recipient} ,  subject = {self.subject}\" )\n",
    "e = email_management('jacky', 'tony', 'meeting time')\n",
    "e.send_email('Lets meet at 5 pm in the playground')\n",
    "e.display_detail()"
   ]
  },
  {
   "cell_type": "markdown",
   "id": "16000b38-841d-483e-8ae3-84ecf2f8a182",
   "metadata": {},
   "source": [
    "Problem 9: Social Media Profile Create a class representing a social media profile with attributes like username and posts. Implement methods to add posts, display posts, and search for posts by keyword."
   ]
  },
  {
   "cell_type": "code",
   "execution_count": 8,
   "id": "b0648637-a744-4f30-bfa6-13b01a74ef4d",
   "metadata": {},
   "outputs": [
    {
     "name": "stdout",
     "output_type": "stream",
     "text": [
      "Post : New beginning of the life from birth to death : added successfully.\n",
      "\n",
      "\n",
      "Post : The fastest way to find something is to search continuously : added successfully.\n",
      "\n",
      "\n",
      "Post0 : New beginning of the life from birth to death\n",
      "Post1 : The fastest way to find something is to search continuously\n",
      "\n",
      "\n",
      "Keyword :  posts are:The fastest way to find something is to search continuously\n",
      "\n",
      "\n"
     ]
    }
   ],
   "source": [
    "class Social_Media_Profile:\n",
    "    def __init__(self, username):\n",
    "        self.username = username\n",
    "        self.posts = []\n",
    "    def add_post(self, post):\n",
    "        self.posts.append(post)\n",
    "        print(f\"Post : {post} : added successfully.\")\n",
    "        print('\\n')\n",
    "    def display_post(self):\n",
    "        counter = 0\n",
    "        for i in self.posts:\n",
    "            print(f\"Post{counter} : {i}\")\n",
    "            counter = counter+1\n",
    "        print('\\n')\n",
    "    def search_post(self, keyword):\n",
    "        for post in self.posts:\n",
    "            if keyword in post:\n",
    "                print(f\"Keyword :  posts are:{post}\")\n",
    "        print('\\n')\n",
    "s = Social_Media_Profile('Digvijay')\n",
    "s.add_post('New beginning of the life from birth to death')\n",
    "s.add_post('The fastest way to find something is to search continuously')\n",
    "s.display_post()\n",
    "s.search_post('fastest')"
   ]
  },
  {
   "cell_type": "markdown",
   "id": "6fe2912f-ee55-4545-b360-8be5541324a7",
   "metadata": {},
   "source": [
    "Problem 10: ToDo List Create a class representing a ToDo list with attributes like tasks and due dates. Implement methods to add tasks, mark tasks as completed, and display pending tasks."
   ]
  },
  {
   "cell_type": "code",
   "execution_count": 6,
   "id": "9ce473e3-3931-4e80-9156-443afb673de1",
   "metadata": {},
   "outputs": [
    {
     "name": "stdout",
     "output_type": "stream",
     "text": [
      "task : Buying groceries added\n",
      "Pending task0 : Buying groceries, Due date : 16-10-2023\n",
      "\n",
      "\n",
      "task : shopping clothes added\n",
      "Pending task0 : Buying groceries, Due date : 16-10-2023\n",
      "Pending task1 : shopping clothes, Due date : 16-10-2023\n",
      "\n",
      "\n",
      "task : visiting shimla added\n",
      "Pending task0 : Buying groceries, Due date : 16-10-2023\n",
      "Pending task1 : shopping clothes, Due date : 16-10-2023\n",
      "Pending task2 : visiting shimla, Due date : 16-10-2023\n",
      "\n",
      "\n",
      "task : Buying groceries Due date: 16-10-2023 Task marked completed\n",
      "Pending task0 : shopping clothes, Due date : 16-10-2023\n",
      "Pending task1 : visiting shimla, Due date : 16-10-2023\n",
      "\n",
      "\n"
     ]
    }
   ],
   "source": [
    "class ToDo:\n",
    "    def __init__(self):\n",
    "        self.tasks={}\n",
    "        self.due_date = None\n",
    "    def add_task(self, task, duedate):\n",
    "        self.tasks[task] = duedate\n",
    "        print(f\"task : {task} added\")\n",
    "    def marked_completed(self,task):\n",
    "        if task in self.tasks:\n",
    "            print(f\"task : {task} Due date: {self.tasks[task]} Task marked completed\")\n",
    "            del self.tasks[task]\n",
    "    def display_pending(self):\n",
    "        counter=0\n",
    "        for i,j in self.tasks.items():\n",
    "            print(f\"Pending task{counter} : {i}, Due date : {j}\")\n",
    "            counter=counter+1\n",
    "        print(\"\\n\")\n",
    "t = ToDo()\n",
    "t.add_task(\"Buying groceries\", \"16-10-2023\")\n",
    "t.display_pending()\n",
    "t.add_task(\"shopping clothes\", \"16-10-2023\")\n",
    "t.display_pending()\n",
    "t.add_task(\"visiting shimla\", \"16-10-2023\")\n",
    "t.display_pending()\n",
    "t.marked_completed(\"Buying groceries\")\n",
    "t.display_pending()"
   ]
  },
  {
   "cell_type": "code",
   "execution_count": null,
   "id": "3f06ed34-19d7-4060-ad05-8b04adf222c6",
   "metadata": {},
   "outputs": [],
   "source": []
  }
 ],
 "metadata": {
  "kernelspec": {
   "display_name": "Python 3 (ipykernel)",
   "language": "python",
   "name": "python3"
  },
  "language_info": {
   "codemirror_mode": {
    "name": "ipython",
    "version": 3
   },
   "file_extension": ".py",
   "mimetype": "text/x-python",
   "name": "python",
   "nbconvert_exporter": "python",
   "pygments_lexer": "ipython3",
   "version": "3.10.8"
  }
 },
 "nbformat": 4,
 "nbformat_minor": 5
}
