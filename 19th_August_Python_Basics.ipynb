{
 "cells": [
  {
   "cell_type": "markdown",
   "metadata": {},
   "source": [
    "TOPIC: Python Basics Variable"
   ]
  },
  {
   "cell_type": "markdown",
   "metadata": {},
   "source": [
    "Inside 1st question we need to swap 2 variables without using temporary variable. \n",
    "This can be done using many methods \n",
    "But I have used addition and substraction method."
   ]
  },
  {
   "cell_type": "code",
   "execution_count": 1,
   "metadata": {},
   "outputs": [
    {
     "name": "stdout",
     "output_type": "stream",
     "text": [
      "Before swapping : x=10 , y=20 \n",
      " After swapping : x=20 , y=10 \n"
     ]
    }
   ],
   "source": [
    "#1. Declare two variables, `x` and `y`, and assign them integer values. Swap the values of these variables without using any temporary variable.\n",
    "x,y=10,20\n",
    "print(f\"Before swapping : x={x} , y={y} \")\n",
    "x = x+y                                           # x = x+y = 10+20 = 30\n",
    "y = x-y                                           # y = x-y = 30-20 = 10\n",
    "x = x-y                                           # x = x-y = 30-10 = 20\n",
    "print(f\" After swapping : x={x} , y={y} \")"
   ]
  },
  {
   "cell_type": "markdown",
   "metadata": {},
   "source": [
    "Inside 2nd question we are calculation area of rectangle simply by multiplying length and breadth."
   ]
  },
  {
   "cell_type": "code",
   "execution_count": 25,
   "metadata": {},
   "outputs": [
    {
     "name": "stdout",
     "output_type": "stream",
     "text": [
      "Area of the Rectangle with length : 20 and breadth : 30 is = 600\n"
     ]
    }
   ],
   "source": [
    "#2. Create a program that calculates the area of a rectangle. Take the length and width as inputs from the user and store them in variables. Calculate and display the area.\n",
    "l = int(input(\"Enter length : \"))\n",
    "b = int(input(\"Enter Breadth : \"))\n",
    "area = l*b\n",
    "print(f\"Area of the Rectangle with length : {l} and breadth : {b} is = {area}\")    # f or F string is used to write variables with strings inside print statement."
   ]
  },
  {
   "cell_type": "markdown",
   "metadata": {},
   "source": [
    "Inside 3rd question we are converting temperature from celcius to fahrenheit using the mathematical formulae f=(c*9/5)+32"
   ]
  },
  {
   "cell_type": "code",
   "execution_count": 3,
   "metadata": {},
   "outputs": [
    {
     "name": "stdout",
     "output_type": "stream",
     "text": [
      " 25 degree Celsius to Fahrenheit is 77.0\n"
     ]
    }
   ],
   "source": [
    "#3. Write a Python program that converts temperatures from Celsius to Fahrenheit. Take the temperature in Celsius as input, store it in a variable, convert it to Fahrenheit, and display the result.\n",
    "c = int(input(\"Enter the temperature in Celsius : \"))\n",
    "f = (c*9/5)+32\n",
    "print(f\" {c} degree Celsius to Fahrenheit is {f}\")"
   ]
  },
  {
   "cell_type": "markdown",
   "metadata": {},
   "source": [
    "TOPIC: String Based Questions"
   ]
  },
  {
   "cell_type": "markdown",
   "metadata": {},
   "source": [
    "Inside 1st question we are using len(str) function to calculate length of a string."
   ]
  },
  {
   "cell_type": "code",
   "execution_count": 26,
   "metadata": {},
   "outputs": [
    {
     "name": "stdout",
     "output_type": "stream",
     "text": [
      "Length of the string : \"Digvijay Singh Nagarkoti\" is : 24\n"
     ]
    }
   ],
   "source": [
    "#1. Write a Python program that takes a string as input and prints the length of the string.\n",
    "sentence = input(\"Write a sentence to find the length : \")\n",
    "print(f\"Length of the string : \\\"{sentence}\\\" is : {len(sentence)}\")           # len(sentence) is used to calculate length of a string"
   ]
  },
  {
   "cell_type": "markdown",
   "metadata": {},
   "source": [
    "Inside 2nd question we are calculating vowels in a sentence first we are lowering the string so that we can compare each string with vowels inside for loop ('a','e','i','o','u')."
   ]
  },
  {
   "cell_type": "code",
   "execution_count": 27,
   "metadata": {},
   "outputs": [
    {
     "name": "stdout",
     "output_type": "stream",
     "text": [
      "Total count of Vowels in the sentence : digvijay singh nagarkoti = 8 \n"
     ]
    }
   ],
   "source": [
    "#2. Create a program that takes a sentence from the user and counts the number of vowels (a, e, i, o, u) in the string.\n",
    "count = 0\n",
    "sentence = input(\"Write a sentence : \")\n",
    "sentence = sentence.lower()\n",
    "for i in sentence:\n",
    "    if i in ('a','e','i','o','u'):\n",
    "        count = count+1\n",
    "print(f'Total count of Vowels in the sentence : {sentence} = {count} ')"
   ]
  },
  {
   "cell_type": "markdown",
   "metadata": {},
   "source": [
    "Inside 3rd question we are reversing a sentence using slicing technique [: : -1]  for reversing we give the direction -1."
   ]
  },
  {
   "cell_type": "code",
   "execution_count": 29,
   "metadata": {},
   "outputs": [
    {
     "name": "stdout",
     "output_type": "stream",
     "text": [
      "sentence = Life is always unexpected. and reversed string = .detcepxenu syawla si efiL\n"
     ]
    }
   ],
   "source": [
    "#3. Given a string, reverse the order of characters using string slicing and print the reversed string.\n",
    "sentence = input(\"Write a sentence to reverse : \")\n",
    "reversed_string = sentence[::-1]\n",
    "print(f'sentence = {sentence} and reversed string = {reversed_string}')"
   ]
  },
  {
   "cell_type": "markdown",
   "metadata": {},
   "source": [
    "Inside 4th question we are checking if a string is palindrome or not for this we first remove regular expressions except thes letters and numbers (a-z), (A-Z), (0-9) and then we are lowering the sentence using len(str) function again. And at last we are using slicing technique for reversing the string. "
   ]
  },
  {
   "cell_type": "code",
   "execution_count": 13,
   "metadata": {},
   "outputs": [
    {
     "name": "stdout",
     "output_type": "stream",
     "text": [
      "\"Madam, in Eden, I'm Adam.\" :  is a plaindrome,  because :: madaminedenimadam = madaminedenimadam\n"
     ]
    }
   ],
   "source": [
    "#4. Write a program that takes a string as input and checks if it is a palindrome(reads the same forwards and backwards).\n",
    "import re\n",
    "sentence = input(\"write a sentence to check if it is palindrome : \")\n",
    "speacial_character_removal = (re.sub(r'[^a-zA-Z0-9]', '', sentence)).lower()\n",
    "if(speacial_character_removal == speacial_character_removal[::-1]):\n",
    "    print(f'{sentence} :  is a plaindrome,  because :: {speacial_character_removal} = {speacial_character_removal[::-1]}')\n",
    "else:\n",
    "    print(f'{sentence} : is not a palindrome')"
   ]
  },
  {
   "cell_type": "markdown",
   "metadata": {},
   "source": [
    "Inside 5th question we are removing spaces from a string using 2 techniques we can acheive that first method is by using re.sub() method to remove all the white space characters from the string And the second method would be by using replace() function to replace space character(\" \") with empty string(\"\")."
   ]
  },
  {
   "cell_type": "code",
   "execution_count": 19,
   "metadata": {},
   "outputs": [
    {
     "name": "stdout",
     "output_type": "stream",
     "text": [
      "Removing space from the sentence :By 1st method : Iwilldefinitelydoit :By 2nd method : Iwilldefinitelydoit\n"
     ]
    }
   ],
   "source": [
    "#5. Create a program that takes a string as input and removes all the spaces from it. Print the modified string without spaces.\n",
    "import re                                         # re.sub() is used to remove regular expression from a sentence.\n",
    "sentence = input()\n",
    "removed_space_1 = re.sub(r'[\\s]', '', sentence)   # removes any white-space character liek(tab,space,newline, etc)  and \\s represent [....] whitespace , ''=Empty string\n",
    "# or\n",
    "removed_space_2 = sentence.replace(\" \", '')       # removes only space\n",
    "print(f\"Removing space from the sentence :By 1st method : {removed_space_1} :By 2nd method : {removed_space_2}\")"
   ]
  }
 ],
 "metadata": {
  "kernelspec": {
   "display_name": "Python 3",
   "language": "python",
   "name": "python3"
  },
  "language_info": {
   "codemirror_mode": {
    "name": "ipython",
    "version": 3
   },
   "file_extension": ".py",
   "mimetype": "text/x-python",
   "name": "python",
   "nbconvert_exporter": "python",
   "pygments_lexer": "ipython3",
   "version": "3.8.16"
  },
  "orig_nbformat": 4
 },
 "nbformat": 4,
 "nbformat_minor": 2
}
