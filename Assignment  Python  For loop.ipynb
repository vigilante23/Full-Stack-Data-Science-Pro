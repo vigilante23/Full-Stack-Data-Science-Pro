{
 "cells": [
  {
   "cell_type": "markdown",
   "id": "0bc3b605-0a08-41c5-b172-1e2b72386715",
   "metadata": {},
   "source": [
    "Basic Level:"
   ]
  },
  {
   "cell_type": "markdown",
   "id": "0f34b97e-1fd9-4ea0-8a93-3d5bc2ac3c3c",
   "metadata": {},
   "source": [
    "1. Write a Python program to print the numbers from 1 to 10 using a `for` loop."
   ]
  },
  {
   "cell_type": "code",
   "execution_count": 4,
   "id": "37900f3f-8060-4fbf-813f-424fdc8039b3",
   "metadata": {},
   "outputs": [
    {
     "name": "stdin",
     "output_type": "stream",
     "text": [
      "Enter the number :  10\n"
     ]
    },
    {
     "name": "stdout",
     "output_type": "stream",
     "text": [
      "1\n",
      "2\n",
      "3\n",
      "4\n",
      "5\n",
      "6\n",
      "7\n",
      "8\n",
      "9\n",
      "10\n"
     ]
    }
   ],
   "source": [
    "def Number(no):\n",
    "    for i in range(1,no+1):\n",
    "        print(i)\n",
    "if __name__ == \"__main__\":\n",
    "    num = int(input(\"Enter the number : \"))\n",
    "    Number(num)\n",
    "    "
   ]
  },
  {
   "cell_type": "markdown",
   "id": "0e431109-58c9-4cdb-88ff-9878022a920f",
   "metadata": {},
   "source": [
    "2. Create a program that calculates the sum of all numbers in a list using a `for` loop."
   ]
  },
  {
   "cell_type": "code",
   "execution_count": 14,
   "id": "2d7c7411-7edd-4977-bd62-e6105e5ba43b",
   "metadata": {},
   "outputs": [
    {
     "name": "stdin",
     "output_type": "stream",
     "text": [
      "Enter the number of elements you want to enter in the list :  4\n",
      "Enter the number :  1\n",
      "Enter the number :  2\n",
      "Enter the number :  3\n",
      "Enter the number :  4\n"
     ]
    },
    {
     "name": "stdout",
     "output_type": "stream",
     "text": [
      "Sum of list : [1, 2, 3, 4] is = 10\n"
     ]
    }
   ],
   "source": [
    "def Sum(l):\n",
    "    sum = 0\n",
    "    for i in l:\n",
    "        sum = sum+l[i-1]\n",
    "    print(f'Sum of list : {l} is = {sum}')\n",
    "\n",
    "if __name__==\"__main__\":\n",
    "    l1 = []\n",
    "    list = int(input(\"Enter the number of elements you want to enter in the list : \"))\n",
    "    for i in range(list):\n",
    "        lnum = int(input(\"Enter the number : \"))\n",
    "        l1.append(lnum)\n",
    "    Sum(l1)"
   ]
  },
  {
   "cell_type": "markdown",
   "id": "46bb3248-cfef-40bd-85a7-d1ad08c3e88d",
   "metadata": {},
   "source": [
    "3. Write a program to print the characters of a string in reverse order using a `for` loop."
   ]
  },
  {
   "cell_type": "code",
   "execution_count": 20,
   "id": "d499d437-4246-4a9e-8342-76a2fbd19b31",
   "metadata": {},
   "outputs": [
    {
     "name": "stdin",
     "output_type": "stream",
     "text": [
      "Enter a word :  Apple\n"
     ]
    },
    {
     "name": "stdout",
     "output_type": "stream",
     "text": [
      "e l p p A "
     ]
    }
   ],
   "source": [
    "def Reverse(wd):\n",
    "    wd=wd[::-1]\n",
    "    for i in wd:\n",
    "        print(i, end=\" \")\n",
    "if __name__==\"__main__\":\n",
    "    word=input(\"Enter a word : \")\n",
    "    Reverse(word)"
   ]
  },
  {
   "cell_type": "markdown",
   "id": "fa56fda3-e76f-472b-af0a-668dbbb07b57",
   "metadata": {},
   "source": [
    "4. Develop a program that finds the factorial of a given number using a `for` loop."
   ]
  },
  {
   "cell_type": "code",
   "execution_count": 24,
   "id": "303c5595-cbdc-4b56-901c-266e417c0643",
   "metadata": {},
   "outputs": [
    {
     "name": "stdin",
     "output_type": "stream",
     "text": [
      "Enter a number :  5\n"
     ]
    },
    {
     "name": "stdout",
     "output_type": "stream",
     "text": [
      "Factorial of Number : 5 = 120\n"
     ]
    }
   ],
   "source": [
    "def Factorial(num):\n",
    "    product = 1\n",
    "    for i in range(num,1,-1):\n",
    "        product = product * i\n",
    "    print(f\"Factorial of Number : {num} = {product}\")\n",
    "        \n",
    "if __name__==\"__main__\":\n",
    "    number = int(input(\"Enter a number : \" ))\n",
    "    Factorial(number)"
   ]
  },
  {
   "cell_type": "markdown",
   "id": "3116abcc-6eef-43e4-8c51-8c500f75a902",
   "metadata": {},
   "source": [
    "5. Create a program to print the multiplication table of a given number using a `for` loop."
   ]
  },
  {
   "cell_type": "code",
   "execution_count": 2,
   "id": "b275be95-8105-4d33-848c-b96639504111",
   "metadata": {},
   "outputs": [
    {
     "name": "stdin",
     "output_type": "stream",
     "text": [
      "Enter a number :  5\n"
     ]
    },
    {
     "name": "stdout",
     "output_type": "stream",
     "text": [
      "5 * 1 = 5\n",
      "5 * 2 = 10\n",
      "5 * 3 = 15\n",
      "5 * 4 = 20\n",
      "5 * 5 = 25\n",
      "5 * 6 = 30\n",
      "5 * 7 = 35\n",
      "5 * 8 = 40\n",
      "5 * 9 = 45\n",
      "5 * 10 = 50\n"
     ]
    }
   ],
   "source": [
    "def Table(num):\n",
    "    for i in range(1,11):\n",
    "        print(f\"{num} * {i} = {num*i}\")\n",
    "    \n",
    "if __name__==\"__main__\":\n",
    "    number = int(input(\"Enter a number : \"))\n",
    "    Table(number)"
   ]
  },
  {
   "cell_type": "markdown",
   "id": "a05c8514-5767-46c2-b2d9-8f1bdda63cb7",
   "metadata": {},
   "source": [
    "6. Write a program that counts the number of even and odd numbers in a list using a `for` loop."
   ]
  },
  {
   "cell_type": "code",
   "execution_count": 14,
   "id": "b7990453-d7aa-4640-9a4a-75b8e298c150",
   "metadata": {},
   "outputs": [
    {
     "name": "stdin",
     "output_type": "stream",
     "text": [
      "How many list items you want to store inside the list :  5\n",
      "Enter the value to add in the list :  2\n",
      "Enter the value to add in the list :  3\n",
      "Enter the value to add in the list :  4\n",
      "Enter the value to add in the list :  5\n",
      "Enter the value to add in the list :  6\n"
     ]
    },
    {
     "name": "stdout",
     "output_type": "stream",
     "text": [
      "list = [2, 3, 4, 5, 6] : even_count = 3 : odd_count = 2\n"
     ]
    }
   ],
   "source": [
    "def Count(num):\n",
    "    even_count = 0\n",
    "    odd_count = 0\n",
    "    for i in range(len(ls)):\n",
    "        if(num[i]%2==0):\n",
    "            even_count = even_count + 1\n",
    "        else:\n",
    "            odd_count = odd_count + 1\n",
    "    print(f\"list = {num} : even_count = {even_count} : odd_count = {odd_count}\")\n",
    "if __name__==\"__main__\":\n",
    "    ls = []\n",
    "    number = int(input(\"How many list items you want to store inside the list : \"))\n",
    "    for i in range(number):\n",
    "        value = int(input(\"Enter the value to add in the list : \"))\n",
    "        ls.append(value)\n",
    "    Count(ls)"
   ]
  },
  {
   "cell_type": "markdown",
   "id": "cd9e270e-f927-42c2-9ded-b73d4b326d78",
   "metadata": {},
   "source": [
    "7. Develop a program that prints the squares of numbers from 1 to 5 using a `for` loop."
   ]
  },
  {
   "cell_type": "code",
   "execution_count": 20,
   "id": "93c294c5-dd02-4ea2-9bb4-0e136cbb0970",
   "metadata": {},
   "outputs": [
    {
     "name": "stdout",
     "output_type": "stream",
     "text": [
      "Squares fo first 5 numbers are\n",
      " 1 * 1 = 1\n",
      " 2 * 2 = 4\n",
      " 3 * 3 = 9\n",
      " 4 * 4 = 16\n",
      " 5 * 5 = 25\n"
     ]
    }
   ],
   "source": [
    "def Squares():\n",
    "    print(\"Squares fo first 5 numbers are\")\n",
    "    for i in range(1,6):\n",
    "        print(f\" {i} * {i} = {i*i}\")\n",
    "    \n",
    "if __name__==\"__main__\":\n",
    "    Squares()"
   ]
  },
  {
   "cell_type": "markdown",
   "id": "224e3a4b-0f40-4c65-92ea-2cd5514dfeb1",
   "metadata": {},
   "source": [
    "8. Create a program to find the length of a string without using the `len()` function."
   ]
  },
  {
   "cell_type": "code",
   "execution_count": 26,
   "id": "a225d3e6-3626-41e3-b619-b2f0d7804859",
   "metadata": {},
   "outputs": [
    {
     "name": "stdin",
     "output_type": "stream",
     "text": [
      "Enter a word :  Stars\n"
     ]
    },
    {
     "name": "stdout",
     "output_type": "stream",
     "text": [
      "5\n"
     ]
    }
   ],
   "source": [
    "def Length(word):\n",
    "    count = 0\n",
    "    for i in word:\n",
    "        count=count+1\n",
    "    print(count)\n",
    "if __name__==\"__main__\":\n",
    "    word = (input(\"Enter a word : \"))\n",
    "    Length(word)"
   ]
  },
  {
   "cell_type": "markdown",
   "id": "2c53b84a-029a-4958-9e5e-95fffe0c928c",
   "metadata": {},
   "source": [
    "9. Write a program that calculates the average of a list of numbers using a `for` loop."
   ]
  },
  {
   "cell_type": "code",
   "execution_count": 32,
   "id": "775f34dd-26fc-4c7b-b48e-c2e4719097ea",
   "metadata": {},
   "outputs": [
    {
     "name": "stdout",
     "output_type": "stream",
     "text": [
      "Average of numbers : [2, 3, 4, 5, 6] = 4.0\n"
     ]
    }
   ],
   "source": [
    "def Average(ls):\n",
    "    sum=0\n",
    "    n=len(ls)\n",
    "    for i in ls:\n",
    "        sum=sum+i\n",
    "    print(f\"Average of numbers : {ls} = {sum/n}\")\n",
    "if __name__==\"__main__\":\n",
    "    ls= [2,3,4,5,6]\n",
    "    Average(ls)"
   ]
  },
  {
   "cell_type": "markdown",
   "id": "1107b056-24c9-448f-bc78-1bd306f461e5",
   "metadata": {},
   "source": [
    "10. Develop a program that prints the first `n` Fibonacci numbers using a `for` loop."
   ]
  },
  {
   "cell_type": "code",
   "execution_count": 54,
   "id": "eeb36470-e069-4bd4-93ee-df078c9b40b3",
   "metadata": {},
   "outputs": [
    {
     "name": "stdin",
     "output_type": "stream",
     "text": [
      "Enter number for the fibonacci series :  5\n"
     ]
    },
    {
     "name": "stdout",
     "output_type": "stream",
     "text": [
      "5 number Fibonacci series : [0, 1, 1, 2, 3]\n"
     ]
    }
   ],
   "source": [
    "def fibonacci(num):\n",
    "    first,second = 0,1\n",
    "    ls=[0,1]\n",
    "    for i in range(num-2):\n",
    "        third=first+second\n",
    "        ls.append(third)\n",
    "        first = second\n",
    "        second = third\n",
    "    print(f\"{num} number Fibonacci series : {ls}\")\n",
    "\n",
    "if __name__==\"__main__\":\n",
    "    number = int(input(\"Enter number for the fibonacci series : \"))\n",
    "    fibonacci(number)"
   ]
  },
  {
   "cell_type": "markdown",
   "id": "4e69b9e4-0455-419c-ae2a-fce0cc6a57bc",
   "metadata": {},
   "source": [
    "Intermediate Level:"
   ]
  },
  {
   "cell_type": "markdown",
   "id": "5d230001-dcc7-4b5a-8657-2c58d57c18af",
   "metadata": {},
   "source": [
    "11. Write a program to check if a given list contains any duplicates using a `for` loop."
   ]
  },
  {
   "cell_type": "code",
   "execution_count": 51,
   "id": "72052d01-a582-491f-ae91-429eb5bdcc77",
   "metadata": {},
   "outputs": [
    {
     "name": "stdout",
     "output_type": "stream",
     "text": [
      " List : [1, 2, 3, 4, 1, 2, 1, 3, 2] has duplicate elements = {1, 2, 3} \n"
     ]
    }
   ],
   "source": [
    "def Duplicate(ls):\n",
    "    ls1=[]                                             #Empty list to store the duplicate numbers\n",
    "    for i in range(len(ls)):\n",
    "        for j in range(i+1,len(ls)):\n",
    "            if(ls[i]==ls[j]):\n",
    "                ls1.append(ls[j])\n",
    "    print(f\" List : {ls} has duplicate elements = {set(ls1)} \")    #using set to remove deuplicacy in the list\n",
    "\n",
    "if __name__==\"__main__\":\n",
    "    ls = [1,2,3,4,1,2,1,3,2]\n",
    "    Duplicate(ls)"
   ]
  },
  {
   "cell_type": "markdown",
   "id": "793050f0-9095-4b04-9a8e-4c262cfedfc9",
   "metadata": {},
   "source": [
    "12. Create a program that prints the prime numbers in a given range using a `for` loop."
   ]
  },
  {
   "cell_type": "code",
   "execution_count": 1,
   "id": "09f810c7-7d20-4d13-b8aa-97de652cc9ca",
   "metadata": {},
   "outputs": [
    {
     "name": "stdin",
     "output_type": "stream",
     "text": [
      "Enter the starting value :  3\n",
      "Enter the ending value :  11\n"
     ]
    },
    {
     "name": "stdout",
     "output_type": "stream",
     "text": [
      "[3, 5, 7, 11]\n"
     ]
    }
   ],
   "source": [
    "def Prime(start,end):\n",
    "    Pm=[]\n",
    "    for i in range(start, end+1):\n",
    "        is_prime = True\n",
    "        for j in range(2,i):\n",
    "            if(i%j==0):\n",
    "                is_prime = False\n",
    "                break\n",
    "        if is_prime:\n",
    "            Pm.append(i)\n",
    "    print(f\"{Pm}\")\n",
    "if __name__==\"__main__\":\n",
    "    start = int(input(\"Enter the starting value : \"))\n",
    "    end = int(input(\"Enter the ending value : \"))\n",
    "    Prime(start,end)"
   ]
  },
  {
   "cell_type": "markdown",
   "id": "c00b4eb3-49d2-4235-aca1-73743484316f",
   "metadata": {},
   "source": [
    "13. Develop a program that counts the number of vowels in a string using a `for` loop."
   ]
  },
  {
   "cell_type": "code",
   "execution_count": 15,
   "id": "0de0040a-11d3-4471-887f-bb8bf25bbc06",
   "metadata": {},
   "outputs": [
    {
     "name": "stdin",
     "output_type": "stream",
     "text": [
      "Enter the sentence :  Batman\n"
     ]
    },
    {
     "name": "stdout",
     "output_type": "stream",
     "text": [
      "Total number of vowels inside the word : Batman = 2 vowels\n"
     ]
    }
   ],
   "source": [
    "import re\n",
    "def Vowels(word,o_word):\n",
    "    count = 0\n",
    "    for i in word:\n",
    "        if(i in 'AEIOUaeiou'):\n",
    "            count=count+1\n",
    "    print(f\"Total number of vowels inside the word : {o_word} = {count} vowels\")\n",
    "if __name__==\"__main__\":\n",
    "    o_word = input(\"Enter the sentence : \")\n",
    "    word = re.sub(r'[^A-Za-z]','',o_word)\n",
    "    Vowels(word,o_word)\n",
    "    \n",
    "# or we can directly use this\n",
    "\"\"\"  \n",
    "import re\n",
    "word= \"bat2023\"\n",
    "word = re.sub(r'[^AEIOUaeiou]','',word)\n",
    "print(len(word))\n",
    "\"\"\""
   ]
  },
  {
   "cell_type": "markdown",
   "id": "945f959a-83bc-4e57-ba78-1b11c832ee38",
   "metadata": {},
   "source": [
    "14. Write a program to find the maximum element in a 2D list using a nested `for` loop."
   ]
  },
  {
   "cell_type": "code",
   "execution_count": null,
   "id": "33580634-96e4-41fe-bc45-2880952308bc",
   "metadata": {},
   "outputs": [],
   "source": [
    "def Maximum(ls):\n",
    "    for i in range(len(ls)):\n",
    "        for j in range(len(ls)):\n",
    "            \n",
    "        \n",
    "if __name__==\"__main__\":\n",
    "    ls=[\n",
    "        [1,2,3],\n",
    "        [4,5,6],\n",
    "        [7,8,9]\n",
    "    ]"
   ]
  },
  {
   "cell_type": "markdown",
   "id": "655f0dd7-ec0d-4f37-80a2-b09a15422ffc",
   "metadata": {},
   "source": [
    "15. Create a program that removes all occurrences of a specific element from a list using a `for` loop."
   ]
  },
  {
   "cell_type": "code",
   "execution_count": 33,
   "id": "ac1bdc6a-9144-4101-b868-d1f23aa2171d",
   "metadata": {},
   "outputs": [
    {
     "name": "stdout",
     "output_type": "stream",
     "text": [
      "From list : [10, 20, 30, 40, 50, 10, 10] By removing element : 10 =  [20, 30, 40, 50]\n"
     ]
    }
   ],
   "source": [
    "def Remove(ls,element):\n",
    "    ls1=[]\n",
    "    for i in ls:\n",
    "        if (element!=i):\n",
    "            ls1.append(i)\n",
    "    print(f\"From list : {ls} By removing element : {element} =  {ls1}\")\n",
    "if __name__ == \"__main__\":\n",
    "    ls=[10,20,30,40,50,10,10]\n",
    "    element = 10\n",
    "    Remove(ls,element)\n",
    "    \n",
    "    \n",
    "# another way\n",
    "\n",
    "# lst=[1,2,3,4,5,6,1]\n",
    "# x=1\n",
    "# lst=[i for i in lst if i!=x ]\n",
    "# print(lst)\n"
   ]
  },
  {
   "cell_type": "markdown",
   "id": "5865a789-5920-4581-b220-062283de4b7c",
   "metadata": {},
   "source": [
    "16. Develop a program that generates a multiplication table for numbers from 1 to 5 using a nested `for` loop."
   ]
  },
  {
   "cell_type": "code",
   "execution_count": 40,
   "id": "61eca0c1-6275-4f93-a9b8-194b72c6b6f4",
   "metadata": {},
   "outputs": [
    {
     "name": "stdout",
     "output_type": "stream",
     "text": [
      "1 * 1 = 1||1 * 2 = 2||1 * 3 = 3||1 * 4 = 4||1 * 5 = 5||1 * 6 = 6||1 * 7 = 7||1 * 8 = 8||1 * 9 = 9||1 * 10 = 10||\n",
      "2 * 1 = 2||2 * 2 = 4||2 * 3 = 6||2 * 4 = 8||2 * 5 = 10||2 * 6 = 12||2 * 7 = 14||2 * 8 = 16||2 * 9 = 18||2 * 10 = 20||\n",
      "3 * 1 = 3||3 * 2 = 6||3 * 3 = 9||3 * 4 = 12||3 * 5 = 15||3 * 6 = 18||3 * 7 = 21||3 * 8 = 24||3 * 9 = 27||3 * 10 = 30||\n",
      "4 * 1 = 4||4 * 2 = 8||4 * 3 = 12||4 * 4 = 16||4 * 5 = 20||4 * 6 = 24||4 * 7 = 28||4 * 8 = 32||4 * 9 = 36||4 * 10 = 40||\n",
      "5 * 1 = 5||5 * 2 = 10||5 * 3 = 15||5 * 4 = 20||5 * 5 = 25||5 * 6 = 30||5 * 7 = 35||5 * 8 = 40||5 * 9 = 45||5 * 10 = 50||\n"
     ]
    }
   ],
   "source": [
    "for i in range(1,6):\n",
    "    for j in range(1,11):\n",
    "        print(f\"{i} * {j} = {i*j}\", end=\"||\")\n",
    "    print()\n",
    "  "
   ]
  },
  {
   "cell_type": "markdown",
   "id": "2a84310c-8f83-447c-b492-5e5b71bf93d8",
   "metadata": {},
   "source": [
    "17. Write a program that converts a list of Fahrenheit temperatures to Celsius using a `for` loop."
   ]
  },
  {
   "cell_type": "code",
   "execution_count": 45,
   "id": "ef21ef2f-2887-4471-89b4-764b34d38e87",
   "metadata": {},
   "outputs": [
    {
     "name": "stdout",
     "output_type": "stream",
     "text": [
      "Fahrenheit : [97, 98, 99, 100] to Celsius : [36.111111111111114, 36.66666666666667, 37.22222222222222, 37.77777777777778]\n"
     ]
    }
   ],
   "source": [
    "def Celcius(ls):\n",
    "    ls1=[((5/9)*(x-32)) for x in ls ]\n",
    "    print(f'Fahrenheit : {ls} to Celsius : {ls1}')\n",
    "if __name__==\"__main__\":\n",
    "    ls=[97,98,99,100]\n",
    "    Celcius(ls)"
   ]
  },
  {
   "cell_type": "markdown",
   "id": "69ff5c35-d434-4099-bf25-936634262de1",
   "metadata": {},
   "source": [
    "18. Create a program to print the common elements from two lists using a `for` loop."
   ]
  },
  {
   "cell_type": "code",
   "execution_count": 47,
   "id": "042e9575-82a4-4bf1-a75d-58a16db96643",
   "metadata": {},
   "outputs": [
    {
     "name": "stdout",
     "output_type": "stream",
     "text": [
      "List1 = [1, 2, 3, 4, 5, 6], List2 = [5, 6, 7, 8, 9, 10], Common elements = [5, 6]\n"
     ]
    }
   ],
   "source": [
    "def Common(ls1,ls2):\n",
    "    ls3=[]\n",
    "    for i in ls1:\n",
    "        if i in ls2:\n",
    "            ls3.append(i)\n",
    "    print(f\"List1 = {ls1}, List2 = {ls2}, Common elements = {ls3}\")\n",
    "if __name__==\"__main__\":\n",
    "    ls1=[1,2,3,4,5,6]\n",
    "    ls2=[5,6,7,8,9,10]\n",
    "    Common(ls1,ls2)\n",
    "    \n",
    "# another way\n",
    "# ls1=[1,2,3,4,5,6]\n",
    "# ls2=[5,6,7,8,9,10]\n",
    "# ls3=[i for i in ls1 if i in ls2]\n",
    "# print(ls3)"
   ]
  },
  {
   "cell_type": "markdown",
   "id": "e67c82e7-f993-4697-b856-91fb26cb1e98",
   "metadata": {},
   "source": [
    "19. Develop a program that prints the pattern of right-angled triangles using a `for` loop. Use ‘*’ to draw the\n",
    "pattern"
   ]
  },
  {
   "cell_type": "code",
   "execution_count": 5,
   "id": "e42f320b-15d3-4cd0-ba32-f0c95415972e",
   "metadata": {},
   "outputs": [
    {
     "name": "stdin",
     "output_type": "stream",
     "text": [
      "Enter how many lines you want in right angled triangle :  7\n"
     ]
    },
    {
     "name": "stdout",
     "output_type": "stream",
     "text": [
      "* \n",
      "* * \n",
      "* * * \n",
      "* * * * \n",
      "* * * * * \n",
      "* * * * * * \n",
      "* * * * * * * \n"
     ]
    }
   ],
   "source": [
    "def RightT(lines):\n",
    "    for i in range(lines):\n",
    "        for j in range(i+1):\n",
    "            print('*', end=\" \")\n",
    "        print()\n",
    "if __name__==\"__main__\":\n",
    "    num=int(input(\"Enter how many lines you want in right angled triangle : \"))\n",
    "    RightT(num)"
   ]
  },
  {
   "cell_type": "markdown",
   "id": "1ac3d230-831f-4b89-a707-67ebf399d54e",
   "metadata": {},
   "source": [
    "20. Write a program to find the greatest common divisor (GCD) of two numbers using a `for` loop."
   ]
  },
  {
   "cell_type": "code",
   "execution_count": 8,
   "id": "e00073b4-25d4-49d0-9191-0e5afdee8570",
   "metadata": {},
   "outputs": [
    {
     "name": "stdin",
     "output_type": "stream",
     "text": [
      "Enter number 1 :  20\n",
      "Enter number 2 :  5\n"
     ]
    },
    {
     "name": "stdout",
     "output_type": "stream",
     "text": [
      "GCD of 20, 5 = 5\n"
     ]
    }
   ],
   "source": [
    "def GCD(num1,num2):\n",
    "    GCD=1\n",
    "    if( num1>num2):\n",
    "        for i in range(1,num1+1):\n",
    "            if(num1%i==0 and num2%i==0):\n",
    "                GCD=i\n",
    "        print(f\"GCD of {num1}, {num2} = {GCD}\")\n",
    "    else:\n",
    "        for i in range(1,num2+1):\n",
    "            if(num1%i==0 and num2%i==0):\n",
    "                GCD=i\n",
    "        print(f\"GCD of {num1}, {num2} = {GCD}\")\n",
    "if __name__==\"__main__\":\n",
    "    num1=int(input(\"Enter number 1 : \"))\n",
    "    num2=int(input(\"Enter number 2 : \"))\n",
    "    GCD(num1,num2)"
   ]
  },
  {
   "cell_type": "markdown",
   "id": "13f15442-615d-468b-829c-167894b16495",
   "metadata": {},
   "source": [
    "Advanced Level:"
   ]
  },
  {
   "cell_type": "markdown",
   "id": "0e088f09-4e1b-4263-ac79-0aa03e375a2f",
   "metadata": {},
   "source": [
    "21. Create a program that calculates the sum of the digits of numbers in a list using a list comprehension."
   ]
  },
  {
   "cell_type": "code",
   "execution_count": 15,
   "id": "007620ca-e834-44ab-8e1c-8e244e0e8a6e",
   "metadata": {},
   "outputs": [
    {
     "name": "stdout",
     "output_type": "stream",
     "text": [
      "Sum of digits of 11 = 2\n",
      "Sum of digits of 22 = 4\n",
      "Sum of digits of 33 = 6\n",
      "Sum of digits of 44 = 8\n",
      "Sum of digits of 55 = 10\n"
     ]
    }
   ],
   "source": [
    "def Sum(ls):\n",
    "    ls1 = [sum(int(j) for j in str(i)) for i in ls ]\n",
    "    for i in range(len(ls)): \n",
    "        print(f\"Sum of digits of {ls[i]} = {ls1[i]}\")\n",
    "if __name__==\"__main__\":\n",
    "    ls=[11,22,33,44,55]\n",
    "    Sum(ls)"
   ]
  },
  {
   "cell_type": "markdown",
   "id": "d317551c-f99c-4b13-ab47-db049dd4be6f",
   "metadata": {},
   "source": [
    "22. Write a program to find the prime factors of a given number using a `for` loop and list comprehension."
   ]
  },
  {
   "cell_type": "code",
   "execution_count": 17,
   "id": "cf92d34a-7df4-4f51-9b73-159a402437e3",
   "metadata": {},
   "outputs": [
    {
     "name": "stdin",
     "output_type": "stream",
     "text": [
      "Enter a number :  45\n"
     ]
    },
    {
     "name": "stdout",
     "output_type": "stream",
     "text": [
      "[3, 5]\n"
     ]
    }
   ],
   "source": [
    "number = int(input(\"Enter a number : \"))\n",
    "if(number<=1):\n",
    "    print(\" No prime factors below 1 \")\n",
    "else:\n",
    "    Prime_f = [i for i in range(2,number+1) if number%i==0 and all(i%j!=0 for j in range(2,int(i**0.5)+1))]\n",
    "    print(Prime_f)"
   ]
  },
  {
   "cell_type": "markdown",
   "id": "a6bbf77d-f8b4-4afe-8ae4-4e5f1f0f698b",
   "metadata": {},
   "source": [
    "23. Develop a program that extracts unique elements from a list and stores them in a new list using a list\n",
    "comprehension."
   ]
  },
  {
   "cell_type": "code",
   "execution_count": 28,
   "id": "8758cdcd-b806-4323-b658-242306eab07a",
   "metadata": {},
   "outputs": [
    {
     "name": "stdout",
     "output_type": "stream",
     "text": [
      "[4, 5]\n"
     ]
    }
   ],
   "source": [
    "ls = [1,1,2,2,3,3,4,5]\n",
    "unique = [i for i in ls if all(j!=i for j in ls[ls.index(i)+1:])]\n",
    "print(unique)\n",
    "\n",
    "#or\n",
    "# ls = [1,1,2,2,3,3,4,5]\n",
    "# unique = [i for i in ls if ls.count(i)==1]\n",
    "# print(unique)"
   ]
  },
  {
   "cell_type": "markdown",
   "id": "ee4fc784-9a90-4f05-b5c4-9d3e21371403",
   "metadata": {},
   "source": [
    "24. Create a program that generates a list of all palindromic numbers up to a specified limit using a list\n",
    "comprehension."
   ]
  },
  {
   "cell_type": "code",
   "execution_count": 15,
   "id": "d4108216-dd1e-4a4e-baa4-612a9174a3ac",
   "metadata": {},
   "outputs": [
    {
     "name": "stdin",
     "output_type": "stream",
     "text": [
      "Enter the starting number :  1\n",
      "Enter the ending number :  50\n"
     ]
    },
    {
     "name": "stdout",
     "output_type": "stream",
     "text": [
      "The palindrome numbers between numbers : 1 - 50 = [1, 2, 3, 4, 5, 6, 7, 8, 9, 11, 22, 33, 44]\n"
     ]
    }
   ],
   "source": [
    "x = int(input(\"Enter the starting number : \"))\n",
    "y = int(input(\"Enter the ending number : \"))\n",
    "palindrome = [i for i in range(x,y+1) if str(i)==str(i)[::-1]]\n",
    "print(f\"The palindrome numbers between numbers : {x} - {y} = {palindrome}\")"
   ]
  },
  {
   "cell_type": "markdown",
   "id": "3622c604-75ae-41be-bdb0-52450986d218",
   "metadata": {},
   "source": [
    "25. Write a program to flatten a nested list using list comprehension.\n",
    "    "
   ]
  },
  {
   "cell_type": "code",
   "execution_count": 8,
   "id": "e442edab-8bff-443a-a286-37b6cedcd03b",
   "metadata": {},
   "outputs": [
    {
     "name": "stdout",
     "output_type": "stream",
     "text": [
      "[1, 2, 3, 4, 5, 6, 7, 8, 9, 10, 11]\n"
     ]
    }
   ],
   "source": [
    "ls = [1, [2, 3, [4, [5, 6]], 7], [8, [9, 10]], 11]\n",
    "ls1=[]\n",
    "def Flatten(ls):\n",
    "    for i in ls:\n",
    "        if isinstance(i,list):\n",
    "            Flatten(i)\n",
    "        else:\n",
    "            ls1.append(i)\n",
    "Flatten(ls)\n",
    "print(ls1)"
   ]
  },
  {
   "cell_type": "code",
   "execution_count": 5,
   "id": "9c1df265-e5dc-4b32-86bd-0f8afc39b377",
   "metadata": {},
   "outputs": [
    {
     "name": "stdout",
     "output_type": "stream",
     "text": [
      "Nested List : [1, [2, 3, [4, [5, 6]], 7], [8, [9, 10]], 11] = Flatten List : [1, 2, 3, 4, 5, 6, 7, 8, 9, 10, 11]\n"
     ]
    }
   ],
   "source": [
    "def Flatten(ls):\n",
    "    return [item for sublist in ls for item in (Flatten(sublist) if isinstance(sublist,list) else [sublist])] \n",
    "ls = [1, [2, 3, [4, [5, 6]], 7], [8, [9, 10]], 11]\n",
    "print(f\"Nested List : {ls} = Flatten List : {Flatten(ls)}\")"
   ]
  },
  {
   "cell_type": "markdown",
   "id": "43726a6a-83fa-4e34-81b2-7ada54be8690",
   "metadata": {},
   "source": [
    "26. Develop a program that computes the sum of even and odd numbers in a list separately using list\n",
    "comprehension."
   ]
  },
  {
   "cell_type": "code",
   "execution_count": 8,
   "id": "b3d81306-fe66-4915-bc15-be5b79772189",
   "metadata": {},
   "outputs": [
    {
     "name": "stdout",
     "output_type": "stream",
     "text": [
      "List : [1, 2, 3, 4, 5, 6] sum of even numbers = [12], sum of odd numbers = [9]\n"
     ]
    }
   ],
   "source": [
    "def Sum_even_odd(ls):\n",
    "    even = [sum(i for i in ls if i%2==0)]\n",
    "    odd = [sum(i for i in ls if i%2!=0)]\n",
    "    return(even, odd)\n",
    "ls = [1,2,3,4,5,6]\n",
    "a,b = Sum_even_odd(ls)\n",
    "print(f\"List : {ls} sum of even numbers = {a}, sum of odd numbers = {b}\")"
   ]
  },
  {
   "cell_type": "markdown",
   "id": "2494ab13-4ae3-4e71-b9cf-4574a270d766",
   "metadata": {},
   "source": [
    "27. Create a program that generates a list of squares of odd numbers between 1 and 10 using list\n",
    "comprehension."
   ]
  },
  {
   "cell_type": "code",
   "execution_count": 11,
   "id": "86bf8959-c7da-421f-9295-8aaa093561e0",
   "metadata": {},
   "outputs": [
    {
     "name": "stdout",
     "output_type": "stream",
     "text": [
      "List of squares of odd numbers between 1 and 10 = [1, 9, 25, 49, 81]\n"
     ]
    }
   ],
   "source": [
    "ls = [i*i for i in range(1,11) if i%2!=0]\n",
    "print(f\"List of squares of odd numbers between 1 and 10 = {ls}\")"
   ]
  },
  {
   "cell_type": "markdown",
   "id": "efb512bf-d55c-4980-b66e-94efc476e025",
   "metadata": {},
   "source": [
    "28. Write a program that combines two lists into a dictionary using list comprehension."
   ]
  },
  {
   "cell_type": "code",
   "execution_count": 7,
   "id": "af6726b1-cd7c-4a60-97f5-4dd53109dc92",
   "metadata": {},
   "outputs": [
    {
     "name": "stdout",
     "output_type": "stream",
     "text": [
      "{1: 'a', 2: 'b', 3: 'c', 4: 'd'}\n"
     ]
    }
   ],
   "source": [
    "ls1 = [1,2,3,4,5]\n",
    "ls2 = ['a', 'b', 'c', 'd']\n",
    "if(len(ls1)>len(ls2)):\n",
    "    dict = {ls1[i]:ls2[i] for i in range(len(ls2))}\n",
    "else:\n",
    "    dict = {ls1[i]:ls2[i] for i in range(len(ls1))}\n",
    "print(dict)"
   ]
  },
  {
   "cell_type": "markdown",
   "id": "6f0cf581-489c-4e74-8455-4269dc1d1cbf",
   "metadata": {},
   "source": [
    "29. Develop a program that extracts the vowels from a string and stores them in a list using list comprehension."
   ]
  },
  {
   "cell_type": "code",
   "execution_count": 3,
   "id": "fe729056-7886-4a8c-b1c6-a98f702d1f1a",
   "metadata": {},
   "outputs": [
    {
     "name": "stdout",
     "output_type": "stream",
     "text": [
      "['i', 'e', 'i', 'a', 'e', 'a', 'i', 'o', 'u', 'e']\n"
     ]
    }
   ],
   "source": [
    "word = \"Life Is A learning Journey\"\n",
    "word=word.lower()\n",
    "ls = [i for i in word if(i in 'aeiou')]\n",
    "print(ls)"
   ]
  },
  {
   "cell_type": "markdown",
   "id": "8b83b5fd-4a44-4ae9-83d3-41adaecce3eb",
   "metadata": {},
   "source": [
    "30. Create a program that removes all non-numeric characters from a list of strings using list comprehension."
   ]
  },
  {
   "cell_type": "code",
   "execution_count": 16,
   "id": "d347bb54-30b7-487e-b497-19c454d80558",
   "metadata": {},
   "outputs": [
    {
     "data": {
      "text/plain": [
       "['12', '34', '56', '78']"
      ]
     },
     "execution_count": 16,
     "metadata": {},
     "output_type": "execute_result"
    }
   ],
   "source": [
    "word = ['1aston2', '3banana4', '5cat6', '7dog8']\n",
    "ls = [''.join(letter for letter in i if letter.isdigit()) for i in word]\n",
    "ls"
   ]
  },
  {
   "cell_type": "code",
   "execution_count": 22,
   "id": "924ccef1-57ac-4f8e-ac08-386d9c1f2c65",
   "metadata": {},
   "outputs": [
    {
     "data": {
      "text/plain": [
       "['12', '34', '56', '78']"
      ]
     },
     "execution_count": 22,
     "metadata": {},
     "output_type": "execute_result"
    }
   ],
   "source": [
    "import re\n",
    "word = ['1aston2', '3banana4', '5cat6', '7dog8']\n",
    "ls = [re.sub(r'\\D', '', i) for i in word]\n",
    "ls"
   ]
  },
  {
   "cell_type": "markdown",
   "id": "e9199b9a-d8f2-4e48-8107-59b6e1d5ef40",
   "metadata": {},
   "source": [
    "31. Write a program to generate a list of prime numbers using the Sieve of Eratosthenes algorithm and list\n",
    "comprehension."
   ]
  },
  {
   "cell_type": "code",
   "execution_count": 33,
   "id": "d9182d98-0d14-47b0-acb9-5a24d06d3cf2",
   "metadata": {},
   "outputs": [
    {
     "name": "stdin",
     "output_type": "stream",
     "text": [
      "Enter the number :  20\n"
     ]
    },
    {
     "name": "stdout",
     "output_type": "stream",
     "text": [
      "Prime numbers of number : 20 = [2, 3, 5, 7, 11, 13, 17, 19]\n"
     ]
    }
   ],
   "source": [
    "def Sieve(num):\n",
    "    ls=['True'] * num\n",
    "    ls[0]='False'\n",
    "    for i in range(2,num+1):\n",
    "        for j in range(i*2,num+1,i):\n",
    "            ls[j-1] = 'False'\n",
    "    ls= [i+1 for i,j in enumerate(ls) if(j == 'True')]\n",
    "    return(ls)\n",
    "num = int(input(\"Enter the number : \"))\n",
    "prime= Sieve(num)\n",
    "print(f\"Prime numbers of number : {num} = {prime}\")"
   ]
  },
  {
   "cell_type": "code",
   "execution_count": 25,
   "id": "7215304f-dfb0-478b-812d-c799acc38689",
   "metadata": {},
   "outputs": [
    {
     "name": "stdout",
     "output_type": "stream",
     "text": [
      "2 True\n",
      "3 True\n",
      "5 True\n",
      "7 True\n"
     ]
    }
   ],
   "source": [
    "# Reference\n",
    "ls= ['False', 'True', 'True', 'False', 'True', 'False', 'True', 'False', 'False', 'False']\n",
    "for i,j in enumerate(ls):\n",
    "    if(j == 'True'):\n",
    "        print(i+1,j)"
   ]
  },
  {
   "cell_type": "markdown",
   "id": "0c1006b6-ac2b-45e1-be18-b2bd27a9d0a2",
   "metadata": {},
   "source": [
    "32. Create a program that generates a list of all Pythagorean triplets up to a specified limit using list\n",
    "comprehension."
   ]
  },
  {
   "cell_type": "code",
   "execution_count": 9,
   "id": "1358a6ac-e47a-4424-b38f-c47664184c7f",
   "metadata": {},
   "outputs": [
    {
     "name": "stdin",
     "output_type": "stream",
     "text": [
      "Enter a number :  10\n"
     ]
    },
    {
     "name": "stdout",
     "output_type": "stream",
     "text": [
      "All Pythagorean triplets between 1, 10 = [(3, 4, 5), (6, 8, 10)]\n"
     ]
    }
   ],
   "source": [
    "def Pythagorean(num):\n",
    "    ls = [(i,j,k) for i in range(1,num+1) for j in range(i,num+1) for k in range(j,num+1) if(i**2 + j**2 == k**2) ]\n",
    "    return(ls)\n",
    "num = int(input(\"Enter a number : \"))\n",
    "py = Pythagorean(10)\n",
    "print(f'All Pythagorean triplets between 1, {num} = {py}')"
   ]
  },
  {
   "cell_type": "markdown",
   "id": "f5de49d7-2c62-4d80-ab39-c3a47f4e19bb",
   "metadata": {},
   "source": [
    "33. Develop a program that generates a list of all possible combinations of two lists using list comprehension."
   ]
  },
  {
   "cell_type": "code",
   "execution_count": 35,
   "id": "664f680e-df9a-417a-8d3b-07b4ae3d75cb",
   "metadata": {},
   "outputs": [
    {
     "name": "stdout",
     "output_type": "stream",
     "text": [
      "[(1, 101), (1, 102), (1, 103), (2, 101), (2, 102), (2, 103), (3, 101), (3, 102), (3, 103)]\n"
     ]
    }
   ],
   "source": [
    "ls1 = [1,2,3]\n",
    "ls2 = [101,102,103]\n",
    "ls = [(i,j) for i in ls1 for j in ls2]\n",
    "print(ls)"
   ]
  },
  {
   "cell_type": "markdown",
   "id": "00f0bfc3-4253-4e35-9b4e-d813014b4521",
   "metadata": {},
   "source": [
    "34. Write a program that calculates the mean, median, and mode of a list of numbers using list\n",
    "comprehension."
   ]
  },
  {
   "cell_type": "code",
   "execution_count": 67,
   "id": "43b2d9d3-d662-43ce-bbe8-5c018e4edc17",
   "metadata": {},
   "outputs": [
    {
     "name": "stdout",
     "output_type": "stream",
     "text": [
      "For even numbers : [1, 2, 3, 4, 5, 6, 7, 8, 9, 10] Median = 5.5\n",
      "For odd numbers : [1, 2, 3, 4, 5, 6, 7, 8, 9] Median = 5\n"
     ]
    }
   ],
   "source": [
    "ls = [1,2,3,4,5,6,7,8,9,10]\n",
    "median = [ ((ls[int(len(ls)/2) -1] + ls[int(len(ls)/2)])/2)  if((len(ls))%2==0 ) else ls[int((len(ls)+1)/2)-1] for i in ls ][0]\n",
    "print(f\"For even numbers : {ls} Median = {median}\")\n",
    "ls = [1,2,3,4,5,6,7,8,9]\n",
    "median = [ ((ls[int(len(ls)/2) -1] + ls[int(len(ls)/2)])/2)  if((len(ls))%2==0 ) else ls[int((len(ls)+1)/2)-1] for i in ls ][0]\n",
    "print(f\"For odd numbers : {ls} Median = {median}\")"
   ]
  },
  {
   "cell_type": "markdown",
   "id": "f87914cb-f146-4ed6-bb48-3f55e730f458",
   "metadata": {},
   "source": [
    "35. Create a program that generates Pascal's triangle up to a specified number of rows using list\n",
    "comprehension."
   ]
  },
  {
   "cell_type": "code",
   "execution_count": 2,
   "id": "c7a5b280-a1f7-4b64-925a-7731e8c86b9c",
   "metadata": {},
   "outputs": [
    {
     "name": "stdin",
     "output_type": "stream",
     "text": [
      "Enter the number :  10\n"
     ]
    },
    {
     "name": "stdout",
     "output_type": "stream",
     "text": [
      "              1               \n",
      "             1 1              \n",
      "            1 2 1             \n",
      "           1 3 3 1            \n",
      "          1 4 6 4 1           \n",
      "        1 5 10 10 5 1         \n",
      "       1 6 15 20 15 6 1       \n",
      "     1 7 21 35 35 21 7 1      \n",
      "    1 8 28 56 70 56 28 8 1    \n",
      " 1 9 36 84 126 126 84 36 9 1  \n"
     ]
    }
   ],
   "source": [
    "def generate_pascals_triangle(rows):\n",
    "    if rows <= 0:\n",
    "        return []\n",
    "    triangle = [[1]]\n",
    "    for i in range(1, rows):\n",
    "        prev_row = triangle[-1]\n",
    "        next_row = [1] + [prev_row[j] + prev_row[j + 1] for j in range(len(prev_row) - 1)] + [1]\n",
    "        triangle.append(next_row)\n",
    "    return triangle\n",
    "def print_pascals_triangle(triangle):\n",
    "    for row in triangle:\n",
    "        print(\" \".join(map(str, row)).center(len(triangle[-1]) * 3))\n",
    "num_rows = int(input(\"Enter the number : \"))\n",
    "pascals_triangle = generate_pascals_triangle(num_rows)\n",
    "print_pascals_triangle(pascals_triangle)"
   ]
  },
  {
   "cell_type": "markdown",
   "id": "3a0384ff-fdb7-4073-a2a2-d40f570c47bd",
   "metadata": {},
   "source": [
    "36. Develop a program that calculates the sum of the digits of a factorial of numbers from 1 to 5 using list\n",
    "comprehension."
   ]
  },
  {
   "cell_type": "code",
   "execution_count": 1,
   "id": "ff518c12-ffc5-4213-a628-1f51dccdb5a4",
   "metadata": {},
   "outputs": [
    {
     "data": {
      "text/plain": [
       "[1, 2, 6, 6, 3]"
      ]
     },
     "execution_count": 1,
     "metadata": {},
     "output_type": "execute_result"
    }
   ],
   "source": [
    "import math\n",
    "ls = [sum(int(j) for j in str(math.factorial(i))) for i in range(1,6)]\n",
    "ls"
   ]
  },
  {
   "cell_type": "markdown",
   "id": "b15c48c8-8187-440c-b5c2-e791e8adfd11",
   "metadata": {},
   "source": [
    "37. Write a program that finds the longest word in a sentence using list comprehension."
   ]
  },
  {
   "cell_type": "code",
   "execution_count": 8,
   "id": "9e518760-6943-4448-807c-c008a4f79ac5",
   "metadata": {},
   "outputs": [
    {
     "name": "stdin",
     "output_type": "stream",
     "text": [
      "Enter a sentence My name is Digvijay Singh Nagarkoti. I am form Uttarakhand (Nainital).\n"
     ]
    },
    {
     "name": "stdout",
     "output_type": "stream",
     "text": [
      "['Uttarakhand']\n"
     ]
    }
   ],
   "source": [
    "def Longest():\n",
    "    sentence = input(\"Enter a sentence\")\n",
    "    ls = [max(sentence.split(), key = lambda x : len(x)) ]\n",
    "    print(ls)\n",
    "Longest()"
   ]
  },
  {
   "cell_type": "code",
   "execution_count": 10,
   "id": "4db11c90-0290-4f8f-aaa2-977248dcb833",
   "metadata": {},
   "outputs": [
    {
     "name": "stdin",
     "output_type": "stream",
     "text": [
      "Enter a sentence :  Pomegranate is red from inside.\n"
     ]
    },
    {
     "name": "stdout",
     "output_type": "stream",
     "text": [
      "Pomegranate\n"
     ]
    }
   ],
   "source": [
    "sentence = input(\"Enter a sentence : \")\n",
    "a = sentence.split(' ')\n",
    "max=\"\"\n",
    "for i in a:\n",
    "    if(len(i)> len(max)):\n",
    "        max = i\n",
    "print(max)"
   ]
  },
  {
   "cell_type": "markdown",
   "id": "8bfe83f5-dd09-4e7a-b461-9feab6fc3b5c",
   "metadata": {},
   "source": [
    "38. Create a program that filters a list of strings to include only those with more than three vowels using list\n",
    "comprehension."
   ]
  },
  {
   "cell_type": "code",
   "execution_count": 10,
   "id": "ba3e2dae-a16a-4bf2-bc2e-9f3c4fc92670",
   "metadata": {},
   "outputs": [
    {
     "name": "stdout",
     "output_type": "stream",
     "text": [
      "['avocado', 'banana', 'orange']\n"
     ]
    }
   ],
   "source": [
    "ls = ['avocado', 'banana','cherry','orange','kiwi']\n",
    "ls1 = [word for word in ls  if sum(1 for letter in word if(letter in 'aeiouAEIOU'))>=3]\n",
    "print(ls1)"
   ]
  },
  {
   "cell_type": "code",
   "execution_count": 12,
   "id": "20278e6b-493a-41a6-bafe-e83941f52921",
   "metadata": {},
   "outputs": [
    {
     "name": "stdout",
     "output_type": "stream",
     "text": [
      "['avocado', 'banana']\n"
     ]
    }
   ],
   "source": [
    "ls=['avocado', 'banana', 'cherry','Mango',]\n",
    "ls1=[]\n",
    "for i in ls:\n",
    "    count = 0  \n",
    "    for j in i:\n",
    "        if j in 'aeiouAEIOU':\n",
    "            count = count+1\n",
    "    if(count>=3):\n",
    "        ls1.append(i)\n",
    "print(ls1)"
   ]
  },
  {
   "cell_type": "markdown",
   "id": "e0a8c4c4-6e52-48a8-b17a-2e770524b6b9",
   "metadata": {},
   "source": [
    "39. Develop a program that calculates the sum of the digits of numbers from 1 to 1000 using list\n",
    "comprehension."
   ]
  },
  {
   "cell_type": "code",
   "execution_count": 5,
   "id": "dd4c50bc-2eb8-4db0-9e20-7a454ca0d2e5",
   "metadata": {},
   "outputs": [
    {
     "name": "stdout",
     "output_type": "stream",
     "text": [
      "[1, 2, 3, 4, 5, 6, 7, 8, 9, 1, 2, 3, 4, 5, 6, 7, 8, 9, 10, 2, 3, 4, 5, 6, 7, 8, 9, 10, 11, 3, 4, 5, 6, 7, 8, 9, 10, 11, 12, 4, 5, 6, 7, 8, 9, 10, 11, 12, 13, 5, 6, 7, 8, 9, 10, 11, 12, 13, 14, 6, 7, 8, 9, 10, 11, 12, 13, 14, 15, 7, 8, 9, 10, 11, 12, 13, 14, 15, 16, 8, 9, 10, 11, 12, 13, 14, 15, 16, 17, 9, 10, 11, 12, 13, 14, 15, 16, 17, 18, 1, 2, 3, 4, 5, 6, 7, 8, 9, 10, 2, 3, 4, 5, 6, 7, 8, 9, 10, 11, 3, 4, 5, 6, 7, 8, 9, 10, 11, 12, 4, 5, 6, 7, 8, 9, 10, 11, 12, 13, 5, 6, 7, 8, 9, 10, 11, 12, 13, 14, 6, 7, 8, 9, 10, 11, 12, 13, 14, 15, 7, 8, 9, 10, 11, 12, 13, 14, 15, 16, 8, 9, 10, 11, 12, 13, 14, 15, 16, 17, 9, 10, 11, 12, 13, 14, 15, 16, 17, 18, 10, 11, 12, 13, 14, 15, 16, 17, 18, 19, 2, 3, 4, 5, 6, 7, 8, 9, 10, 11, 3, 4, 5, 6, 7, 8, 9, 10, 11, 12, 4, 5, 6, 7, 8, 9, 10, 11, 12, 13, 5, 6, 7, 8, 9, 10, 11, 12, 13, 14, 6, 7, 8, 9, 10, 11, 12, 13, 14, 15, 7, 8, 9, 10, 11, 12, 13, 14, 15, 16, 8, 9, 10, 11, 12, 13, 14, 15, 16, 17, 9, 10, 11, 12, 13, 14, 15, 16, 17, 18, 10, 11, 12, 13, 14, 15, 16, 17, 18, 19, 11, 12, 13, 14, 15, 16, 17, 18, 19, 20, 3, 4, 5, 6, 7, 8, 9, 10, 11, 12, 4, 5, 6, 7, 8, 9, 10, 11, 12, 13, 5, 6, 7, 8, 9, 10, 11, 12, 13, 14, 6, 7, 8, 9, 10, 11, 12, 13, 14, 15, 7, 8, 9, 10, 11, 12, 13, 14, 15, 16, 8, 9, 10, 11, 12, 13, 14, 15, 16, 17, 9, 10, 11, 12, 13, 14, 15, 16, 17, 18, 10, 11, 12, 13, 14, 15, 16, 17, 18, 19, 11, 12, 13, 14, 15, 16, 17, 18, 19, 20, 12, 13, 14, 15, 16, 17, 18, 19, 20, 21, 4, 5, 6, 7, 8, 9, 10, 11, 12, 13, 5, 6, 7, 8, 9, 10, 11, 12, 13, 14, 6, 7, 8, 9, 10, 11, 12, 13, 14, 15, 7, 8, 9, 10, 11, 12, 13, 14, 15, 16, 8, 9, 10, 11, 12, 13, 14, 15, 16, 17, 9, 10, 11, 12, 13, 14, 15, 16, 17, 18, 10, 11, 12, 13, 14, 15, 16, 17, 18, 19, 11, 12, 13, 14, 15, 16, 17, 18, 19, 20, 12, 13, 14, 15, 16, 17, 18, 19, 20, 21, 13, 14, 15, 16, 17, 18, 19, 20, 21, 22, 5, 6, 7, 8, 9, 10, 11, 12, 13, 14, 6, 7, 8, 9, 10, 11, 12, 13, 14, 15, 7, 8, 9, 10, 11, 12, 13, 14, 15, 16, 8, 9, 10, 11, 12, 13, 14, 15, 16, 17, 9, 10, 11, 12, 13, 14, 15, 16, 17, 18, 10, 11, 12, 13, 14, 15, 16, 17, 18, 19, 11, 12, 13, 14, 15, 16, 17, 18, 19, 20, 12, 13, 14, 15, 16, 17, 18, 19, 20, 21, 13, 14, 15, 16, 17, 18, 19, 20, 21, 22, 14, 15, 16, 17, 18, 19, 20, 21, 22, 23, 6, 7, 8, 9, 10, 11, 12, 13, 14, 15, 7, 8, 9, 10, 11, 12, 13, 14, 15, 16, 8, 9, 10, 11, 12, 13, 14, 15, 16, 17, 9, 10, 11, 12, 13, 14, 15, 16, 17, 18, 10, 11, 12, 13, 14, 15, 16, 17, 18, 19, 11, 12, 13, 14, 15, 16, 17, 18, 19, 20, 12, 13, 14, 15, 16, 17, 18, 19, 20, 21, 13, 14, 15, 16, 17, 18, 19, 20, 21, 22, 14, 15, 16, 17, 18, 19, 20, 21, 22, 23, 15, 16, 17, 18, 19, 20, 21, 22, 23, 24, 7, 8, 9, 10, 11, 12, 13, 14, 15, 16, 8, 9, 10, 11, 12, 13, 14, 15, 16, 17, 9, 10, 11, 12, 13, 14, 15, 16, 17, 18, 10, 11, 12, 13, 14, 15, 16, 17, 18, 19, 11, 12, 13, 14, 15, 16, 17, 18, 19, 20, 12, 13, 14, 15, 16, 17, 18, 19, 20, 21, 13, 14, 15, 16, 17, 18, 19, 20, 21, 22, 14, 15, 16, 17, 18, 19, 20, 21, 22, 23, 15, 16, 17, 18, 19, 20, 21, 22, 23, 24, 16, 17, 18, 19, 20, 21, 22, 23, 24, 25, 8, 9, 10, 11, 12, 13, 14, 15, 16, 17, 9, 10, 11, 12, 13, 14, 15, 16, 17, 18, 10, 11, 12, 13, 14, 15, 16, 17, 18, 19, 11, 12, 13, 14, 15, 16, 17, 18, 19, 20, 12, 13, 14, 15, 16, 17, 18, 19, 20, 21, 13, 14, 15, 16, 17, 18, 19, 20, 21, 22, 14, 15, 16, 17, 18, 19, 20, 21, 22, 23, 15, 16, 17, 18, 19, 20, 21, 22, 23, 24, 16, 17, 18, 19, 20, 21, 22, 23, 24, 25, 17, 18, 19, 20, 21, 22, 23, 24, 25, 26, 9, 10, 11, 12, 13, 14, 15, 16, 17, 18, 10, 11, 12, 13, 14, 15, 16, 17, 18, 19, 11, 12, 13, 14, 15, 16, 17, 18, 19, 20, 12, 13, 14, 15, 16, 17, 18, 19, 20, 21, 13, 14, 15, 16, 17, 18, 19, 20, 21, 22, 14, 15, 16, 17, 18, 19, 20, 21, 22, 23, 15, 16, 17, 18, 19, 20, 21, 22, 23, 24, 16, 17, 18, 19, 20, 21, 22, 23, 24, 25, 17, 18, 19, 20, 21, 22, 23, 24, 25, 26, 18, 19, 20, 21, 22, 23, 24, 25, 26, 27, 1]\n"
     ]
    }
   ],
   "source": [
    "ls = [sum(int(j) for j in str(i)) for i in range(1,1001) ]\n",
    "print(ls)"
   ]
  },
  {
   "cell_type": "markdown",
   "id": "e454deca-e28a-4e7c-a70d-c238338c4d48",
   "metadata": {},
   "source": [
    "40. Write a program that generates a list of prime palindromic numbers using list comprehension."
   ]
  },
  {
   "cell_type": "code",
   "execution_count": 4,
   "id": "20d12928-ef84-4605-838b-d1fe9ffa4ec5",
   "metadata": {},
   "outputs": [
    {
     "name": "stdin",
     "output_type": "stream",
     "text": [
      "Enter number upto which palindrome numbers you want to generate 100\n"
     ]
    },
    {
     "data": {
      "text/plain": [
       "[0, 1, 2, 3, 4, 5, 6, 7, 8, 9, 11, 22, 33, 44, 55, 66, 77, 88, 99]"
      ]
     },
     "execution_count": 4,
     "metadata": {},
     "output_type": "execute_result"
    }
   ],
   "source": [
    "num = int(input(\"Enter number upto which palindrome numbers you want to generate\"))\n",
    "ls = [i for i in range(num+1) if str(i) == str(i)[::-1]]\n",
    "ls"
   ]
  },
  {
   "cell_type": "code",
   "execution_count": 3,
   "id": "d31a557c-7bf6-494c-ba99-09adce63449e",
   "metadata": {},
   "outputs": [
    {
     "name": "stdout",
     "output_type": "stream",
     "text": [
      "[45]\n"
     ]
    }
   ],
   "source": [
    "sum_list = [sum(i for i in range(1, 10))]\n",
    "print(sum_list)"
   ]
  },
  {
   "cell_type": "code",
   "execution_count": null,
   "id": "5ceb294d-cdc5-44c4-ae71-f6680bc2c80c",
   "metadata": {},
   "outputs": [],
   "source": [
    "*------------------------------------The_End--------------------------------------*"
   ]
  }
 ],
 "metadata": {
  "kernelspec": {
   "display_name": "Python 3 (ipykernel)",
   "language": "python",
   "name": "python3"
  },
  "language_info": {
   "codemirror_mode": {
    "name": "ipython",
    "version": 3
   },
   "file_extension": ".py",
   "mimetype": "text/x-python",
   "name": "python",
   "nbconvert_exporter": "python",
   "pygments_lexer": "ipython3",
   "version": "3.10.8"
  }
 },
 "nbformat": 4,
 "nbformat_minor": 5
}
